{
 "cells": [
  {
   "cell_type": "code",
   "execution_count": 1,
   "metadata": {
    "collapsed": true
   },
   "outputs": [],
   "source": [
    "import pandas as pd\n",
    "import numpy as np\n",
    "import matplotlib as mpl\n",
    "mpl.use('TkAgg')\n",
    "import matplotlib.pyplot as plt\n",
    "plt.style.use(\"ggplot\")\n",
    "import seaborn as sns"
   ]
  },
  {
   "cell_type": "code",
   "execution_count": 3,
   "metadata": {},
   "outputs": [],
   "source": [
    "Dir_PATH = '/Users/lijiahuan/PycharmProjects/DC/fraud_detection/'\n",
    "File_PATH = Dir_PATH + 'Fraud_Data.csv'\n",
    "df = pd.read_csv(File_PATH)"
   ]
  },
  {
   "cell_type": "code",
   "execution_count": null,
   "metadata": {},
   "outputs": [],
   "source": [
    "ipToCountry = pd.read_csv(File_PATH)\n",
    "File_PATH = Dir_PATH + 'IpAddress_to_Country.csv'\n"
   ]
  },
  {
   "cell_type": "code",
   "execution_count": null,
   "metadata": {},
   "outputs": [],
   "source": [
    "df.head()"
   ]
  },
  {
   "cell_type": "code",
   "execution_count": 6,
   "metadata": {},
   "outputs": [
    {
     "name": "stdout",
     "output_type": "stream",
     "text": [
      "<class 'pandas.core.frame.DataFrame'>\nRangeIndex: 151112 entries, 0 to 151111\nData columns (total 11 columns):\nuser_id           151112 non-null int64\nsignup_time       151112 non-null object\npurchase_time     151112 non-null object\npurchase_value    151112 non-null int64\ndevice_id         151112 non-null object\nsource            151112 non-null object\nbrowser           151112 non-null object\nsex               151112 non-null object\nage               151112 non-null int64\nip_address        151112 non-null float64\nclass             151112 non-null int64\ndtypes: float64(1), int64(4), object(6)\nmemory usage: 12.7+ MB\n"
     ]
    }
   ],
   "source": [
    "df.info()"
   ]
  },
  {
   "cell_type": "code",
   "execution_count": null,
   "metadata": {},
   "outputs": [],
   "source": []
  }
 ],
 "metadata": {
  "kernelspec": {
   "display_name": "Python 2",
   "language": "python",
   "name": "python2"
  },
  "language_info": {
   "codemirror_mode": {
    "name": "ipython",
    "version": 2
   },
   "file_extension": ".py",
   "mimetype": "text/x-python",
   "name": "python",
   "nbconvert_exporter": "python",
   "pygments_lexer": "ipython2",
   "version": "2.7.6"
  }
 },
 "nbformat": 4,
 "nbformat_minor": 0
}
